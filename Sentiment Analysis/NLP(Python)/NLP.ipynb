{
 "cells": [
  {
   "cell_type": "code",
   "execution_count": 1,
   "id": "b09eaf00",
   "metadata": {},
   "outputs": [],
   "source": [
    "from transformers import AutoTokenizer, AutoModelForSequenceClassification\n",
    "import torch"
   ]
  },
  {
   "cell_type": "code",
   "execution_count": 43,
   "id": "655ad0ee",
   "metadata": {},
   "outputs": [],
   "source": [
    "import pandas as pd"
   ]
  },
  {
   "cell_type": "code",
   "execution_count": 5,
   "id": "fb6c7b7e",
   "metadata": {
    "scrolled": false
   },
   "outputs": [],
   "source": [
    "tokenizer = AutoTokenizer.from_pretrained('nlptown/bert-base-multilingual-uncased-sentiment')\n",
    "model = AutoModelForSequenceClassification.from_pretrained('nlptown/bert-base-multilingual-uncased-sentiment')"
   ]
  },
  {
   "cell_type": "code",
   "execution_count": 51,
   "id": "c96837f1",
   "metadata": {
    "scrolled": true
   },
   "outputs": [
    {
     "data": {
      "text/html": [
       "<div>\n",
       "<style scoped>\n",
       "    .dataframe tbody tr th:only-of-type {\n",
       "        vertical-align: middle;\n",
       "    }\n",
       "\n",
       "    .dataframe tbody tr th {\n",
       "        vertical-align: top;\n",
       "    }\n",
       "\n",
       "    .dataframe thead th {\n",
       "        text-align: right;\n",
       "    }\n",
       "</style>\n",
       "<table border=\"1\" class=\"dataframe\">\n",
       "  <thead>\n",
       "    <tr style=\"text-align: right;\">\n",
       "      <th></th>\n",
       "      <th>name</th>\n",
       "      <th>reviews</th>\n",
       "    </tr>\n",
       "  </thead>\n",
       "  <tbody>\n",
       "    <tr>\n",
       "      <th>0</th>\n",
       "      <td>Redcliffe Labs - Mumbai</td>\n",
       "      <td>[{'comment': 'I have a good experience with do...</td>\n",
       "    </tr>\n",
       "    <tr>\n",
       "      <th>1</th>\n",
       "      <td>Redcliffe Labs - Mumbai</td>\n",
       "      <td>[{'comment': 'I have a good experience with do...</td>\n",
       "    </tr>\n",
       "    <tr>\n",
       "      <th>2</th>\n",
       "      <td>Dentzz Dental</td>\n",
       "      <td>[{'comment': 'I've always had a problem with m...</td>\n",
       "    </tr>\n",
       "    <tr>\n",
       "      <th>3</th>\n",
       "      <td>Redcliffe Labs - Mumbai</td>\n",
       "      <td>[{'comment': 'I have a good experience with do...</td>\n",
       "    </tr>\n",
       "    <tr>\n",
       "      <th>4</th>\n",
       "      <td>Dentzz Dental</td>\n",
       "      <td>[{'comment': 'I've always had a problem with m...</td>\n",
       "    </tr>\n",
       "  </tbody>\n",
       "</table>\n",
       "</div>"
      ],
      "text/plain": [
       "                      name                                            reviews\n",
       "0  Redcliffe Labs - Mumbai  [{'comment': 'I have a good experience with do...\n",
       "1  Redcliffe Labs - Mumbai  [{'comment': 'I have a good experience with do...\n",
       "2            Dentzz Dental  [{'comment': 'I've always had a problem with m...\n",
       "3  Redcliffe Labs - Mumbai  [{'comment': 'I have a good experience with do...\n",
       "4            Dentzz Dental  [{'comment': 'I've always had a problem with m..."
      ]
     },
     "execution_count": 51,
     "metadata": {},
     "output_type": "execute_result"
    }
   ],
   "source": [
    "df = pd.read_json(\"hospital_data_west.json\")\n",
    "df.head()"
   ]
  },
  {
   "cell_type": "code",
   "execution_count": 52,
   "id": "63333524",
   "metadata": {},
   "outputs": [],
   "source": [
    "def sentiment_score(review):\n",
    "    tokens = tokenizer.encode(review, return_tensors='pt')\n",
    "    result = model(tokens)\n",
    "    return int(torch.argmax(result.logits))+1"
   ]
  },
  {
   "cell_type": "code",
   "execution_count": 53,
   "id": "c1875649",
   "metadata": {},
   "outputs": [],
   "source": [
    "def getSentiment(i):\n",
    "    rev = pd.DataFrame(df.reviews[i])\n",
    "    rev['sentiment'] = rev['comment'].apply(lambda x:sentiment_score(x[:512]))\n",
    "    mean = round(rev.sentiment.mean())\n",
    "    return mean"
   ]
  },
  {
   "cell_type": "code",
   "execution_count": 54,
   "id": "300f1986",
   "metadata": {},
   "outputs": [],
   "source": [
    "sent_dict = {}\n",
    "l = df.index.stop"
   ]
  },
  {
   "cell_type": "code",
   "execution_count": 55,
   "id": "4a926ec8",
   "metadata": {},
   "outputs": [],
   "source": [
    "#Removing the rating column\n",
    "for i in range(l):\n",
    "    no_rev = len(df.reviews[i])\n",
    "    for j in range(no_rev):\n",
    "        del df.reviews[i][j]['rating']"
   ]
  },
  {
   "cell_type": "code",
   "execution_count": 56,
   "id": "fb8e0aa9",
   "metadata": {
    "scrolled": true
   },
   "outputs": [
    {
     "data": {
      "text/html": [
       "<div>\n",
       "<style scoped>\n",
       "    .dataframe tbody tr th:only-of-type {\n",
       "        vertical-align: middle;\n",
       "    }\n",
       "\n",
       "    .dataframe tbody tr th {\n",
       "        vertical-align: top;\n",
       "    }\n",
       "\n",
       "    .dataframe thead th {\n",
       "        text-align: right;\n",
       "    }\n",
       "</style>\n",
       "<table border=\"1\" class=\"dataframe\">\n",
       "  <thead>\n",
       "    <tr style=\"text-align: right;\">\n",
       "      <th></th>\n",
       "      <th>name</th>\n",
       "      <th>reviews</th>\n",
       "    </tr>\n",
       "  </thead>\n",
       "  <tbody>\n",
       "    <tr>\n",
       "      <th>0</th>\n",
       "      <td>Redcliffe Labs - Mumbai</td>\n",
       "      <td>[{'comment': 'I have a good experience with do...</td>\n",
       "    </tr>\n",
       "    <tr>\n",
       "      <th>1</th>\n",
       "      <td>Redcliffe Labs - Mumbai</td>\n",
       "      <td>[{'comment': 'I have a good experience with do...</td>\n",
       "    </tr>\n",
       "    <tr>\n",
       "      <th>2</th>\n",
       "      <td>Dentzz Dental</td>\n",
       "      <td>[{'comment': 'I've always had a problem with m...</td>\n",
       "    </tr>\n",
       "    <tr>\n",
       "      <th>3</th>\n",
       "      <td>Redcliffe Labs - Mumbai</td>\n",
       "      <td>[{'comment': 'I have a good experience with do...</td>\n",
       "    </tr>\n",
       "    <tr>\n",
       "      <th>4</th>\n",
       "      <td>Dentzz Dental</td>\n",
       "      <td>[{'comment': 'I've always had a problem with m...</td>\n",
       "    </tr>\n",
       "  </tbody>\n",
       "</table>\n",
       "</div>"
      ],
      "text/plain": [
       "                      name                                            reviews\n",
       "0  Redcliffe Labs - Mumbai  [{'comment': 'I have a good experience with do...\n",
       "1  Redcliffe Labs - Mumbai  [{'comment': 'I have a good experience with do...\n",
       "2            Dentzz Dental  [{'comment': 'I've always had a problem with m...\n",
       "3  Redcliffe Labs - Mumbai  [{'comment': 'I have a good experience with do...\n",
       "4            Dentzz Dental  [{'comment': 'I've always had a problem with m..."
      ]
     },
     "execution_count": 56,
     "metadata": {},
     "output_type": "execute_result"
    }
   ],
   "source": [
    "df.head()"
   ]
  },
  {
   "cell_type": "code",
   "execution_count": 28,
   "id": "4b86a8cd",
   "metadata": {},
   "outputs": [
    {
     "name": "stdout",
     "output_type": "stream",
     "text": [
      "{'Mazumdar-Shaw-Medical-Centre-Bommasandra-Bangalore': 4, 'Bangalore-Baptist-Hospital-Hebbal-Bangalore': 4, 'Aryan-Hospital-Nagarbhavi-Bangalore': 5, 'Apollo Hospital - Bannerghatta - Bangalore': 3, 'Sakra World Hospital - Bangalore - Bangalore': 2, 'Apollo Hospital - Greams Road - Chennai': 2, 'Miot Hospitals - Manapakkam - Chennai': 2, 'Prashanth Multispeciality Hospital - Chetpet - Chennai': 3, 'Vijaya Hospital - Vadapalani - Chennai': 2, 'Venkataeswara Hospital - Nandanam - Chennai': 4, 'Sri Ramakrishna Hospital - Coimbatore': 4, 'K G Hospital - Coimbatore': 4, 'G. Kuppuswamy Naidu Memorial Hospital - Coimbatore': 2, 'Kovai Medical Center and Hospital - Coimbatore': 2, 'Vikram ENT Hospital - Coimbatore': 4, 'Sreeragam Ayurveda - Maradu - Kochi': 5, 'Ernakulam Medical Centre - Kochi': 5, 'Sunrise Hospital - Cochin': 3, 'Aster Medcity - Kochi': 4, 'Medical Trust Hospital - Cochin': 2}\n"
     ]
    }
   ],
   "source": [
    "#SOUTH\n",
    "for i in range(l):\n",
    "    hos_sentiment = getSentiment(i)\n",
    "    record = {df.name[i] : hos_sentiment}\n",
    "    sent_dict.update(record)\n",
    "print(sent_dict)"
   ]
  },
  {
   "cell_type": "code",
   "execution_count": 42,
   "id": "f4a76b06",
   "metadata": {},
   "outputs": [
    {
     "name": "stdout",
     "output_type": "stream",
     "text": [
      "{'Karma Ayurveda-Pitampura-Delhi': 4, 'Max Vets - Delhi': 5, 'Clove Dental - Delhi': 4, 'Moolchand Medcity - Delhi': 4, 'Indraprastha Apollo Hospital - Delhi': 3, 'Max Hospital - Pitampura - Delhi': 3, 'Fortis Escorts Hospital - Malviya Nagar - Jaipur': 3, 'SMS Hosipital - Jaipur': 3, 'Santokba Durlabhji Memorial Hospital - Jaipur': 3, 'Apex Hospitals - Malviya Nagar - Jaipur': 3, 'Candrol Cancer Treatment Center - Jaipur': 4, 'Pristyn Care - Gurgaon': 4, 'Medanta Mediclinic Cybercity - DLF Phase II - Gurgaon': 3, 'Artemis Hospital - Gurgaon': 3, 'Paras Hospital - Gurgaon': 4, 'CP VET (Centre Point Pet Hospital Pvt Ltd ) - Sushant Lok I - Gurgaon': 5, 'Paras HMRI Hospital - Patna': 4, 'Chakore Nursing Home - Rajendra Nagar - Patna': 5, 'Balaji Hospital - Sri Krishnapuri - Patna': 5, 'Netra Nidan - Kankad Bagh - Patna': 5, 'Panmati Clinic - Indira Nagar - Gorakhpur': 5}\n"
     ]
    }
   ],
   "source": [
    "#NORTH\n",
    "for i in range(l):\n",
    "    hos_sentiment = getSentiment(i)\n",
    "    record = {df.name[i] : hos_sentiment}\n",
    "    sent_dict.update(record)\n",
    "print(sent_dict)"
   ]
  },
  {
   "cell_type": "code",
   "execution_count": 50,
   "id": "94d361df",
   "metadata": {},
   "outputs": [
    {
     "name": "stdout",
     "output_type": "stream",
     "text": [
      "{'AMRI Hospitals - Salt Lake - Kolkata': 4, 'Glitter Dental Clinic - Kalighat - Kolkata': 5, 'Ghosh Dr Sitangshu Kr Dental Clinic - South - Kolkata': 5, 'Great Lakes Dental Clinic And Orthodontic Care - Kalighat - Kolkata': 5, 'Girija Devi Orthodontic & Dental Clinic - Bhowanipore - Kolkata': 5, 'Partha Dental - Kukatpally - Hyderabad': 4, 'Prasad Hospital - Kphb Colony - Hyderabad': 4, 'KIMS Hospital - Secunderabad - Hyderabad': 3, 'Apollo Hospital - Jubilee Hills - Hyderabad': 2, 'Yashoda Hospital - Somajiguda - Hyderabad': 3, 'Rainbow Childrens Hospitals - Banjara Hills - Hyderabad': 3, 'The Dental Specialists - Banjara Hills - Hyderabad': 5, 'Fernandez Hospital - Boggulkunta - Hyderabad': 3, 'Hill View Hospital & Research Center - Bariatu - Ranchi': 5, 'Bhagwan Mahavir Medica Superspecialty Hospital - Jai Prakash Nagar - Ranchi': 5, 'Sourya Children Hospital & Research Center - Pahartoli - Ranchi': 5, 'Netram Clinic - Ahirtoli - Ranchi': 5, 'St.Vincent Hospital - Ranchi': 5, 'Chetanya Hospital - Chandigarh': 4, 'Navjot Nursing Home - Sector 65 - Chandigarh': 5}\n"
     ]
    }
   ],
   "source": [
    "#EAST\n",
    "for i in range(l):\n",
    "    hos_sentiment = getSentiment(i)\n",
    "    record = {df.name[i] : hos_sentiment}\n",
    "    sent_dict.update(record)\n",
    "print(sent_dict)"
   ]
  },
  {
   "cell_type": "code",
   "execution_count": 57,
   "id": "fb780238",
   "metadata": {},
   "outputs": [
    {
     "name": "stdout",
     "output_type": "stream",
     "text": [
      "{'Redcliffe Labs - Mumbai': 4, 'Dentzz Dental': 4, 'Asian Heart Hospital - Bandra East - Mumbai': 4, 'My Dentist - Vile Parle - Mumbai': 4, 'Kokilaben Dhirubhai Ambani Hospital - Andheri - Mumbai': 2, 'Grace Intensive Cardiac Care Centre - Margao - Goa': 5, 'Galaxy Hospital - Mapusa - Goa': 5, 'Manguirish Clinic - Sanquelim - Goa': 5, 'Cattle Pound - Calangute - Goa': 5, 'Cottage Hospital - Vasco da Gama - Goa': 5, 'Healing Hands Clinic - Dhole Patil Road - Pune': 4, 'Ruby Hall Clinic - Sassoon Road - Pune': 3, 'Aditya Birla Memorial Hospital - Chinchwad - Pune': 3, 'Noble Hospital - Hadapsar - Pune': 4, 'Gupte Hospital - Bhandarkar Road - Pune': 3, 'Jupiter Hospital - Cadbury Junction - Thane': 2, 'Aditi Hospital - Thane West': 5, 'Abhyankar Orthopedic Hospital - Dombivili East - Thane': 4, 'Baba General Hospital - Ambernath - Thane': 5, 'Apex Hospital - Dombivli East - Dombivili East - Thane': 5}\n"
     ]
    }
   ],
   "source": [
    "#WEST\n",
    "for i in range(l):\n",
    "    hos_sentiment = getSentiment(i)\n",
    "    record = {df.name[i] : hos_sentiment}\n",
    "    sent_dict.update(record)\n",
    "print(sent_dict)"
   ]
  },
  {
   "cell_type": "code",
   "execution_count": null,
   "id": "a263db87",
   "metadata": {},
   "outputs": [],
   "source": []
  }
 ],
 "metadata": {
  "kernelspec": {
   "display_name": "Python 3 (ipykernel)",
   "language": "python",
   "name": "python3"
  },
  "language_info": {
   "codemirror_mode": {
    "name": "ipython",
    "version": 3
   },
   "file_extension": ".py",
   "mimetype": "text/x-python",
   "name": "python",
   "nbconvert_exporter": "python",
   "pygments_lexer": "ipython3",
   "version": "3.9.12"
  }
 },
 "nbformat": 4,
 "nbformat_minor": 5
}
